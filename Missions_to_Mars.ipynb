{
 "cells": [
  {
   "cell_type": "code",
   "execution_count": 12,
   "metadata": {},
   "outputs": [],
   "source": [
    "# Declare Dependencies \n",
    "\n",
    "from splinter import Browser\n",
    "import pandas as pd\n",
    "from bs4 import BeautifulSoup\n",
    "import requests"
   ]
  },
  {
   "cell_type": "markdown",
   "metadata": {},
   "source": [
    "# NASA Mars News"
   ]
  },
  {
   "cell_type": "code",
   "execution_count": 13,
   "metadata": {},
   "outputs": [
    {
     "output_type": "stream",
     "name": "stdout",
     "text": "Nasa's Latest News:\n\nAlabama High School Student Names NASA's Mars Helicopter\n\n\nNasa's Latest News Description:\n\nVaneeza Rupani's essay was chosen as the name for the small spacecraft, which will mark NASA's first attempt at powered flight on another planet.\n\n\n\n\n\n"
    }
   ],
   "source": [
    "url1 = 'https://mars.nasa.gov/news/'\n",
    "response = requests.get(url1)\n",
    "soup = BeautifulSoup(response.text, 'html.parser')\n",
    "news = soup.find_all('div', class_=\"content_title\")[0].text\n",
    "news_p = soup.find_all('div', class_='rollover_description')[0].text\n",
    "\n",
    "print(f\"Nasa's Latest News:{news}\")\n",
    "print(f\"Nasa's Latest News Description:{news_p}\")"
   ]
  },
  {
   "cell_type": "markdown",
   "metadata": {},
   "source": [
    "# JPL Mars Space Images - Featured Image"
   ]
  },
  {
   "cell_type": "code",
   "execution_count": 14,
   "metadata": {},
   "outputs": [
    {
     "output_type": "stream",
     "name": "stdout",
     "text": "The Current Featured Image at JBL is:\n\nhttps://www.jpl.nasa.gov/spaceimages/images/wallpaper/PIA19041-1920x1200.jpg\n"
    }
   ],
   "source": [
    "url2  = 'https://www.jpl.nasa.gov/spaceimages/?search=&category=Mars'\n",
    "response = requests.get(url2)\n",
    "soup = BeautifulSoup(response.text, 'html.parser')\n",
    "full_url = soup.find(\"article\", class_=\"carousel_item\")\n",
    "full_url = full_url['style'].replace('background-image: url(','').replace(');', '')[1:-1]\n",
    "featured_image_url = \"https://www.jpl.nasa.gov\" + full_url\n",
    "\n",
    "print(f\"The Current Featured Image at JBL is:\\n\\n{featured_image_url}\")"
   ]
  },
  {
   "cell_type": "markdown",
   "metadata": {},
   "source": [
    "# Mars Weather"
   ]
  },
  {
   "cell_type": "code",
   "execution_count": 15,
   "metadata": {},
   "outputs": [
    {
     "output_type": "stream",
     "name": "stdout",
     "text": "The Current Weather in Mars is:\n\nInSight sol 517 (2020-05-10) low -92.6ºC (-134.7ºF) high 1.2ºC (34.2ºF)\nwinds from the SW at 4.9 m/s (11.0 mph) gusting to 17.5 m/s (39.2 mph)\npressure at 7.00 hPapic.twitter.com/wM9OaiiRhy\n"
    }
   ],
   "source": [
    "url3 = 'https://twitter.com/marswxreport?lang=en'\n",
    "response = requests.get(url3)\n",
    "soup = BeautifulSoup(response.text, 'html.parser')\n",
    "mars_weather = soup.find(\"p\", class_=\"TweetTextSize TweetTextSize--normal js-tweet-text tweet-text\").text\n",
    "\n",
    "print(f\"The Current Weather in Mars is:\\n\\n{mars_weather}\")"
   ]
  },
  {
   "cell_type": "markdown",
   "metadata": {},
   "source": [
    "# Mars Facts"
   ]
  },
  {
   "cell_type": "code",
   "execution_count": 16,
   "metadata": {},
   "outputs": [
    {
     "output_type": "execute_result",
     "data": {
      "text/plain": "          Mars Profile                          Values\n0  Equatorial Diameter:                       6,792 km\n1       Polar Diameter:                       6,752 km\n2                 Mass:  6.39 × 10^23 kg (0.11 Earths)\n3                Moons:            2 (Phobos & Deimos)\n4       Orbit Distance:       227,943,824 km (1.38 AU)\n5         Orbit Period:           687 days (1.9 years)\n6  Surface Temperature:                   -87 to -5 °C\n7         First Record:              2nd millennium BC\n8          Recorded By:           Egyptian astronomers",
      "text/html": "<div>\n<style scoped>\n    .dataframe tbody tr th:only-of-type {\n        vertical-align: middle;\n    }\n\n    .dataframe tbody tr th {\n        vertical-align: top;\n    }\n\n    .dataframe thead th {\n        text-align: right;\n    }\n</style>\n<table border=\"1\" class=\"dataframe\">\n  <thead>\n    <tr style=\"text-align: right;\">\n      <th></th>\n      <th>Mars Profile</th>\n      <th>Values</th>\n    </tr>\n  </thead>\n  <tbody>\n    <tr>\n      <td>0</td>\n      <td>Equatorial Diameter:</td>\n      <td>6,792 km</td>\n    </tr>\n    <tr>\n      <td>1</td>\n      <td>Polar Diameter:</td>\n      <td>6,752 km</td>\n    </tr>\n    <tr>\n      <td>2</td>\n      <td>Mass:</td>\n      <td>6.39 × 10^23 kg (0.11 Earths)</td>\n    </tr>\n    <tr>\n      <td>3</td>\n      <td>Moons:</td>\n      <td>2 (Phobos &amp; Deimos)</td>\n    </tr>\n    <tr>\n      <td>4</td>\n      <td>Orbit Distance:</td>\n      <td>227,943,824 km (1.38 AU)</td>\n    </tr>\n    <tr>\n      <td>5</td>\n      <td>Orbit Period:</td>\n      <td>687 days (1.9 years)</td>\n    </tr>\n    <tr>\n      <td>6</td>\n      <td>Surface Temperature:</td>\n      <td>-87 to -5 °C</td>\n    </tr>\n    <tr>\n      <td>7</td>\n      <td>First Record:</td>\n      <td>2nd millennium BC</td>\n    </tr>\n    <tr>\n      <td>8</td>\n      <td>Recorded By:</td>\n      <td>Egyptian astronomers</td>\n    </tr>\n  </tbody>\n</table>\n</div>"
     },
     "metadata": {},
     "execution_count": 16
    }
   ],
   "source": [
    "#Mars facts\n",
    "url4 = \"https://space-facts.com/mars/\"\n",
    "mars_tabl = pd.read_html(url4)[-1]\n",
    "mars_tabl.columns=[\"Mars Profile \",\"Values\"]\n",
    "mars_tabl"
   ]
  },
  {
   "cell_type": "code",
   "execution_count": 17,
   "metadata": {},
   "outputs": [
    {
     "output_type": "execute_result",
     "data": {
      "text/plain": "'<table border=\"1\" class=\"dataframe\">\\n  <thead>\\n    <tr style=\"text-align: right;\">\\n      <th></th>\\n      <th>Mars Profile</th>\\n      <th>Values</th>\\n    </tr>\\n  </thead>\\n  <tbody>\\n    <tr>\\n      <th>0</th>\\n      <td>Equatorial Diameter:</td>\\n      <td>6,792 km</td>\\n    </tr>\\n    <tr>\\n      <th>1</th>\\n      <td>Polar Diameter:</td>\\n      <td>6,752 km</td>\\n    </tr>\\n    <tr>\\n      <th>2</th>\\n      <td>Mass:</td>\\n      <td>6.39 × 10^23 kg (0.11 Earths)</td>\\n    </tr>\\n    <tr>\\n      <th>3</th>\\n      <td>Moons:</td>\\n      <td>2 (Phobos &amp; Deimos)</td>\\n    </tr>\\n    <tr>\\n      <th>4</th>\\n      <td>Orbit Distance:</td>\\n      <td>227,943,824 km (1.38 AU)</td>\\n    </tr>\\n    <tr>\\n      <th>5</th>\\n      <td>Orbit Period:</td>\\n      <td>687 days (1.9 years)</td>\\n    </tr>\\n    <tr>\\n      <th>6</th>\\n      <td>Surface Temperature:</td>\\n      <td>-87 to -5 °C</td>\\n    </tr>\\n    <tr>\\n      <th>7</th>\\n      <td>First Record:</td>\\n      <td>2nd millennium BC</td>\\n    </tr>\\n    <tr>\\n      <th>8</th>\\n      <td>Recorded By:</td>\\n      <td>Egyptian astronomers</td>\\n    </tr>\\n  </tbody>\\n</table>'"
     },
     "metadata": {},
     "execution_count": 17
    }
   ],
   "source": [
    "html_mars_facts = mars_tabl.to_html()\n",
    "html_mars_facts"
   ]
  },
  {
   "cell_type": "markdown",
   "metadata": {},
   "source": [
    "# Mars Hemispheres"
   ]
  },
  {
   "cell_type": "code",
   "execution_count": 18,
   "metadata": {},
   "outputs": [
    {
     "output_type": "execute_result",
     "data": {
      "text/plain": "<!DOCTYPE html>\n\n<html lang=\"en\">\n<head>\n<link href=\"//ajax.googleapis.com/ajax/libs/jqueryui/1.11.3/themes/smoothness/jquery-ui.css\" rel=\"stylesheet\" type=\"text/css\"/>\n<title>Astropedia Search Results | USGS Astrogeology Science Center</title>\n<meta content=\"USGS Astrogeology Science Center Astropedia search results.\" name=\"description\"/>\n<meta content=\"USGS,Astrogeology Science Center,Cartography,Geology,Space,Geological Survey,Mapping\" name=\"keywords\"/>\n<meta content=\"IE=edge\" http-equiv=\"X-UA-Compatible\"/>\n<meta content=\"text/html; charset=utf-8\" http-equiv=\"Content-Type\"/>\n<meta content=\"width=device-width, initial-scale=1, maximum-scale=1\" name=\"viewport\"/>\n<meta content=\"x61hXXVj7wtfBSNOPnTftajMsZ5yB2W-qRoyr7GtOKM\" name=\"google-site-verification\"/>\n<!--<link rel=\"stylesheet\" href=\"http://fonts.googleapis.com/css?family=Open+Sans:400italic,400,bold\"/>-->\n<link href=\"/css/main.css\" media=\"screen\" rel=\"stylesheet\"/>\n<link href=\"/css/print.css\" media=\"print\" rel=\"stylesheet\"/>\n<!--[if lt IE 9]>\n\t\t\t<script src=\"http://html5shiv.googlecode.com/svn/trunk/html5.js\"></script>\n\t\t\t<script src=\"/js/respond.min.js\"></script>\n\t\t\t<link rel=\"stylesheet\" type=\"text/css\" href=\"/css/ie.css\"/>\n                        <script>\n                          document.createElement('header');\n                          document.createElement('nav');\n                          document.createElement('section');\n                          document.createElement('article');\n                          document.createElement('aside');\n                          document.createElement('footer');\n                          document.createElement('hgroup');\n                        </script>\n                  <![endif]-->\n<link href=\"/favicon.ico\" rel=\"icon\" type=\"image/x-ico\"/>\n</head>\n<body id=\"results\">\n<header>\n<!--\n\t\t\t<h1>Astrogeology Science Center</h1>\n-->\n<a href=\"https://www.usgs.gov/centers/astrogeo-sc\" style=\"float:right;margin-top:10px;\" target=\"_blank\">\n<img alt=\"USGS: Science for a Changing World\" class=\"logo\" height=\"60\" src=\"/images/usgs_logo_main_2x.png\"/>\n</a>\n<a href=\"https://nasa.gov\" style=\"float:right;margin-top:5px;margin-right:20px;\" target=\"_blank\">\n<img alt=\"NASA\" class=\"logo\" height=\"65\" src=\"/images/logos/nasa-logo-web-med.png\"/>\n</a>\n<a href=\"https://www.usgs.gov/centers/astrogeology-science-center/science/pds-cartography-and-imaging-sciences-node-usgs\" style=\"float:right;margin-top:5px;margin-right: 10px;\" target=\"_blank\">\n<img alt=\"PDS Cartography and Imaging Science Node\" class=\"logo\" height=\"65\" src=\"/images/pds_logo-invisible-web.png\"/>\n</a>\n</header>\n<div class=\"wrapper\">\n<!--\n\t\t\t<nav>\n\t\t\t\t<a id=\"nav-toggle\" href=\"#\" title=\"Navigation Menu\">Menu</a>\n<ul class=\"dropdown dropdown-horizontal\" id=\"yw0\">\n<li><a href=\"/\">Home</a></li>\n<li><a href=\"/about\">About</a>\n<ul>\n<li><a href=\"/about/careers\">Careers</a></li>\n<li><a href=\"/contact\">Contact</a></li>\n<li><a href=\"/about/events\">Events</a></li>\n<li><a href=\"/site/glossary\">Glossary</a></li>\n<li><a href=\"/about/mission\">Mission</a></li>\n<li><a href=\"/news\">News</a></li>\n<li><a href=\"/people\">People</a></li>\n<li><a href=\"/about/using-our-images\">Using Our Images</a></li>\n<li><a href=\"/about/visitors\">Visitors</a></li>\n</ul>\n</li>\n<li><a href=\"/facilities\">Labs / Facilities</a>\n<ul>\n<li><a href=\"/facilities/flynn-creek-crater-sample-collection\">Flynn Creek Crater Sample Collection</a></li>\n<li><a href=\"http://www.moon-cal.org\">Lunar Calibration Project</a></li>\n<li><a href=\"/facilities/meteor-crater-sample-collection\">Meteor Crater Sample Collection</a></li>\n<li><a href=\"/facilities/mrctr\">MRCTR GIS Lab</a></li>\n<li><a href=\"/facilities/cartography-and-imaging-sciences-node-of-nasa-planetary-data-system\">PDS Cartography and Imaging Sciences Node</a></li>\n<li><a href=\"/pds/annex\">PDS IMG Annex</a></li>\n<li><a href=\"/facilities/photogrammetry-guest-facility\">Photogrammetry Guest Facility</a></li>\n<li><a href=\"/rpif\">Regional Planetary Information Facility (RPIF)</a></li>\n</ul>\n</li>\n<li><a href=\"/maps\">Maps / Products</a>\n<ul>\n<li><a href=\"/search\">Product Search</a></li>\n<li><a href=\"http://planetarynames.wr.usgs.gov\">Gazetteer of Planetary Nomenclature</a></li>\n<li><a href=\"http://planetarymapping.wr.usgs.gov\">Geologic Mapping Program</a></li>\n<li><a href=\"http://pilot.wr.usgs.gov\">Planetary Image Locator Tool (PILOT)</a></li>\n<li><a href=\"/search/planetary-index\">Planetary Map Index</a></li>\n</ul>\n</li>\n<li><a href=\"/geology\">Missions / Research</a>\n<ul>\n<li><a href=\"/geology/mars-dunes\">Mars Dunes</a></li>\n<li><a href=\"/geology/mars-ice\">Mars Ice</a></li>\n<li><a href=\"/missions\">Mission Support</a></li>\n<li><a href=\"/solar-system\">Solar System</a></li>\n<li><a href=\"/groups\">Working Groups</a></li>\n</ul>\n</li>\n<li><a href=\"/tools\">Tools</a>\n<ul>\n<li><a href=\"http://planetarynames.wr.usgs.gov\">Gazetteer of Planetary Nomenclature</a></li>\n<li><a href=\"http://isis.astrogeology.usgs.gov\">Integrated Software for Imagers and Spectrometers (ISIS)</a></li>\n<li><a href=\"http://astrogeology.usgs.gov/tools/map-a-planet-2\">Map a Planet 2</a></li>\n<li><a href=\"http://pilot.wr.usgs.gov\">Planetary Image Locator Tool (PILOT)</a></li>\n<li><a href=\"http://astrocloud.wr.usgs.gov/\">Projection on the Web (POW)</a></li>\n</ul>\n</li>\n</ul>\t\t\t\t<form id=\"search\" class=\"search\" action=\"/search/results\" method=\"get\">\n\t\t\t\t\t<input type=\"submit\" value=\"\" title=\"Search Astropedia\"/>\n\t\t\t\t\t<input type=\"text\" placeholder=\"Search\" name=\"q\"/>\n\t\t\t\t</form>\n\t\t\t</nav>\n-->\n<div class=\"container\">\n<div class=\"widget block bar\">\n<a href=\"/search\" style=\"float:right;text-decoration:none;\">\n<img alt=\"Astropedia\" src=\"/images/astropedia/astropedia-logo-main.png\" style=\"width:200px;border:none;float:right;\"/>\n<div style=\"clear:both;font-size:.8em;float:right;color:#888;\">Lunar and Planetary Cartographic Catalog</div>\n</a>\n<div style=\"float:left;height:60px;\">\n</div>\n</div>\n<form action=\"/search/results\" class=\"bar widget block\" id=\"search-bar\">\n<input name=\"q\" type=\"hidden\" value=\"hemisphere-enhanced\"/>\n<input name=\"target\" type=\"hidden\" value=\"Mars\"/><input name=\"__ncforminfo\" type=\"hidden\" value=\"ymLEU1ZII_FHfxlJgbgBgTt963JHIwzrnswOTL0YX2lB7L3s8DewnsVkgUU4chaNJ8PjJWoNU0NKwc5g85-ZzXjw0j1Zs5cOueYZKeQz9Bk_fCIYrdXoxA==\"/></form><div class=\"full-content\">\n<section class=\"block\" id=\"results-accordian\">\n<div class=\"result-list\" data-section=\"product\" id=\"product-section\">\n<div class=\"accordian\">\n<h2>Products</h2>\n<span class=\"count\">4 Results</span>\n<span class=\"collapse\">Collapse</span>\n</div>\n<div class=\"collapsible results\">\n<div class=\"item\"><a class=\"itemLink product-item\" href=\"/search/map/Mars/Viking/cerberus_enhanced\"><img alt=\"Cerberus Hemisphere Enhanced thumbnail\" class=\"thumb\" src=\"/cache/images/dfaf3849e74bf973b59eb50dab52b583_cerberus_enhanced.tif_thumb.png\"/><div class=\"description\"><h3>Cerberus Hemisphere Enhanced</h3></div></a><span class=\"subtitle\" style=\"float:left\">image/tiff 21 MB</span><span class=\"pubDate\" style=\"float:right\"></span><br/><p>Mosaic of the Cerberus hemisphere of Mars projected into point perspective, a view similar to that which one would see from a spacecraft. This mosaic is composed of 104 Viking Orbiter images acquired…</p></div> <!-- end description --></div><div class=\"item\"><a class=\"itemLink product-item\" href=\"/search/map/Mars/Viking/schiaparelli_enhanced\"><img alt=\"Schiaparelli Hemisphere Enhanced thumbnail\" class=\"thumb\" src=\"/cache/images/7677c0a006b83871b5a2f66985ab5857_schiaparelli_enhanced.tif_thumb.png\"/><div class=\"description\"><h3>Schiaparelli Hemisphere Enhanced</h3></div></a><span class=\"subtitle\" style=\"float:left\">image/tiff 35 MB</span><span class=\"pubDate\" style=\"float:right\"></span><br/><p>Mosaic of the Schiaparelli hemisphere of Mars projected into point perspective, a view similar to that which one would see from a spacecraft. The images were acquired in 1980 during early northern…</p></div> <!-- end description --></div><div class=\"item\"><a class=\"itemLink product-item\" href=\"/search/map/Mars/Viking/syrtis_major_enhanced\"><img alt=\"Syrtis Major Hemisphere Enhanced thumbnail\" class=\"thumb\" src=\"/cache/images/aae41197e40d6d4f3ea557f8cfe51d15_syrtis_major_enhanced.tif_thumb.png\"/><div class=\"description\"><h3>Syrtis Major Hemisphere Enhanced</h3></div></a><span class=\"subtitle\" style=\"float:left\">image/tiff 25 MB</span><span class=\"pubDate\" style=\"float:right\"></span><br/><p>Mosaic of the Syrtis Major hemisphere of Mars projected into point perspective, a view similar to that which one would see from a spacecraft. This mosaic is composed of about 100 red and violet…</p></div> <!-- end description --></section></div><div class=\"item\"><a class=\"itemLink product-item\" href=\"/search/map/Mars/Viking/valles_marineris_enhanced\"><img alt=\"Valles Marineris Hemisphere Enhanced thumbnail\" class=\"thumb\" src=\"/cache/images/04085d99ec3713883a9a57f42be9c725_valles_marineris_enhanced.tif_thumb.png\"/><div class=\"description\"><h3>Valles Marineris Hemisphere Enhanced</h3></div></a><span class=\"subtitle\" style=\"float:left\">image/tiff 27 MB</span><span class=\"pubDate\" style=\"float:right\"></span><br/><p>Mosaic of the Valles Marineris hemisphere of Mars projected into point perspective, a view similar to that which one would see from a spacecraft. The distance is 2500 kilometers from the surface of…</p></div> <!-- end description --></div><script>addBases=[];;if(typeof resetLayerSwitcher===\"function\"){resetLayerSwitcher(false)};var productTotal = 4;</script>\n</div> <!-- end this-section -->\n</body></html>\n\n\n\n<div class=\"icons projects black scroll-wrapper\">\n<div class=\"scroll\">\n<a class=\"icon\" href=\"http://isis.astrogeology.usgs.gov\" title=\"Integrated Software for Imagers and Spectrometers\">\n<img alt=\"ISIS Logo\" height=\"112\" src=\"/images/logos/isis_2x.jpg\" width=\"112\">\n<span class=\"label\">ISIS</span>\n</img></a>\n<a class=\"icon\" href=\"http://planetarynames.wr.usgs.gov\" title=\"Gazetteer of Planetary Nomenclature\">\n<img alt=\"Nomenclature Logo\" height=\"112\" src=\"/images/logos/nomenclature_2x.jpg\" width=\"112\">\n<span class=\"label\">Planetary Nomenclature</span>\n</img></a>\n<a class=\"icon\" href=\"https://astrogeology.usgs.gov/tools/map-a-planet-2\" title=\"Map a Planet 2\">\n<img alt=\"Map-a-Planet Logo\" height=\"112\" src=\"/images/logos/map_a_planet_2x.jpg\" width=\"112\">\n<span class=\"label\">Map a Planet 2</span>\n</img></a>\n<a class=\"icon\" href=\"https://www.usgs.gov/centers/astrogeo-sc/science/cartography-and-imaging-sciences-node-nasa-planetary-data-system\" title=\"PDS Cartography and Imaging Science Node\">\n<img alt=\"PDS Logo\" height=\"112\" src=\"/images/pds_logo-black-web.png\">\n<span class=\"label\">PDS Cartography and Imaging Science Node</span>\n</img></a>\n<!--\n\t\t\t\t\t\t<a title=\"Astropedia Search\" href=\"/search\" class=\"icon\">\n\t\t\t\t\t\t\t<img alt=\"Astropedia Logo\" height=\"112\" width=\"112\" src=\"/images/logos/astropedia_2x.jpg\"/>\n\t\t\t\t\t\t\t<span class=\"label\">Astropedia</span>\n\t\t\t\t\t\t</a>\n-->\n<a class=\"icon\" href=\"https://www.usgs.gov/centers/astrogeo-sc/science/regional-planetary-image-facility-rpif\" title=\"Regional Planetary Image Facility\">\n<img alt=\"RPIF Logo\" height=\"112\" src=\"/images/logos/rpif_2x.jpg\" width=\"112\"/>\n<span class=\"label\">RPIF</span>\n</a>\n<a class=\"icon\" href=\"\" title=\"Photogrammetry Guest Facility\">\n<img alt=\"Photogrammetry Guest Faciltiy Logo\" height=\"112\" src=\"/images/logos/photogrammetry_2x.jpg\" width=\"112\"/>\n<span class=\"label\">Photogrammetry Guest Facility</span>\n</a>\n<a class=\"icon\" href=\"http://pilot.wr.usgs.gov\" title=\"Planetary Image Locator Tool\">\n<img alt=\"Pilot Logo\" height=\"112\" src=\"/images/logos/pilot_2x.jpg\" width=\"112\"/>\n<span class=\"label\">PILOT</span>\n</a>\n<a class=\"icon\" href=\"https://www.usgs.gov/centers/astrogeo-sc/science/mrctr-gis-lab\" title=\"Mapping, Remote-sensing, Cartography, Technology and Research GIS Lab\">\n<img alt=\"MRCTR GIS Lab Logo\" height=\"112\" src=\"/images/logos/mrctr_man_2x.png\" width=\"112\"/>\n<span class=\"label\">MRCTR GIS Lab</span>\n</a>\n</div>\n</div>\n<footer>\n<div class=\"left\">\n<a href=\"http://astrogeology.usgs.gov/search\">Search</a> |\n\t\t\t\t\t<a href=\"http://astrogeology.usgs.gov/maps/about\">About</a> |\n\t\t\t\t\t<a href=\"http://astrogeology.usgs.gov/maps/contact\">Contact</a>\n</div>\n<div class=\"right\">\n<a href=\"https://www.usgs.gov/centers/astrogeo-sc\">USGS Astrogeology Science Center</a>\n</div>\n</footer>\n\n<!--\n\t\t<div class=\"credit\">\n\t\t\t<small>Background Credits: NASA/USGS</small>\n\t\t</div>\n-->\n<div class=\"page-background\" style=\"\n\t\t\tbackground:url('/images/backgrounds/mars.jpg');\n\t\t\tfilter:progid:DXImageTransform.Microsoft.AlphaImageLoader(\n\t\t\t\tsrc='/images/backgrounds/mars.jpg', sizingMethod='scale');\n\t\t\"></div>\n<script type=\"text/javascript\">\nvar baseUrl = \"\";\n\n/*\nvar _gaq = _gaq || [];_gaq.push(['_setAccount', 'UA-27613186-1']);_gaq.push(['_trackPageview']);(function() { var ga = document.createElement('script'); ga.type = 'text/javascript'; ga.async = true;ga.src = ('https:' == document.location.protocol ? 'https://ssl' : 'http://www') + '.google-analytics.com/ga.js'; var s = document.getElementsByTagName('script')[0]; s.parentNode.insertBefore(ga, s);})();\n*/\n\t\t</script>\n<script src=\"https://ajax.googleapis.com/ajax/libs/jquery/1.11.1/jquery.min.js\" type=\"text/javascript\"></script>\n<script src=\"//ajax.googleapis.com/ajax/libs/jqueryui/1.11.3/jquery-ui.min.js\" type=\"text/javascript\"></script>\n<script src=\"/js/general.js\" type=\"text/javascript\"></script>\n\n"
     },
     "metadata": {},
     "execution_count": 18
    }
   ],
   "source": [
    "#Mars Hemispheres \n",
    "url5 = 'https://astrogeology.usgs.gov/search/results?q=hemisphere+enhanced&k1=target&v1=Mars'\n",
    "response = requests.get(url5)\n",
    "soup = BeautifulSoup(response.text, 'html.parser')\n",
    "\n",
    "soup"
   ]
  },
  {
   "cell_type": "code",
   "execution_count": 19,
   "metadata": {},
   "outputs": [
    {
     "output_type": "stream",
     "name": "stdout",
     "text": "The Cerberus Hemisphere Image:\n\nhttps://astrogeology.usgs.gov/cache/images/cfa62af2557222a02478f1fcd781d445_cerberus_enhanced.tif_full.jpg\n"
    }
   ],
   "source": [
    "# 1. Cerberus Hemisphere\n",
    "mars_1_name='Cerberus Hemisphere'\n",
    "mars_1='https://astrogeology.usgs.gov/search/map/Mars/Viking/cerberus_enhanced'\n",
    "response = requests.get(mars_1)\n",
    "soup = BeautifulSoup(response.text, 'html.parser')\n",
    "mars_1_img = soup.find(\"img\", class_=\"wide-image\")\n",
    "mars_1_img = mars_1_img['src']\n",
    "mars_1_img_url = \"https://astrogeology.usgs.gov\" + mars_1_img\n",
    "print(f\"The Cerberus Hemisphere Image:\\n\\n{mars_1_img_url}\")"
   ]
  },
  {
   "cell_type": "code",
   "execution_count": 20,
   "metadata": {},
   "outputs": [
    {
     "output_type": "stream",
     "name": "stdout",
     "text": "The Schiaperelli Hemisphere Image:\n\nhttps://astrogeology.usgs.gov/cache/images/3cdd1cbf5e0813bba925c9030d13b62e_schiaparelli_enhanced.tif_full.jpg\n"
    }
   ],
   "source": [
    "# 2. Schiaperelli Hemisphere\n",
    "mars_2_name='Schiaperelli Hemisphere'\n",
    "mars_2='https://astrogeology.usgs.gov/search/map/Mars/Viking/schiaparelli_enhanced'\n",
    "response = requests.get(mars_2)\n",
    "soup = BeautifulSoup(response.text, 'html.parser')\n",
    "mars_2_img = soup.find(\"img\", class_=\"wide-image\")\n",
    "mars_2_img = mars_2_img['src']\n",
    "mars_2_img_url = \"https://astrogeology.usgs.gov\" + mars_2_img\n",
    "print(f\"The Schiaperelli Hemisphere Image:\\n\\n{mars_2_img_url}\")"
   ]
  },
  {
   "cell_type": "code",
   "execution_count": 21,
   "metadata": {},
   "outputs": [
    {
     "output_type": "stream",
     "name": "stdout",
     "text": "The Syrtis Major Hemisphere Image:\n\nhttps://astrogeology.usgs.gov/cache/images/ae209b4e408bb6c3e67b6af38168cf28_syrtis_major_enhanced.tif_full.jpg\n"
    }
   ],
   "source": [
    "# 3.Syrtis Major Hemisphere\n",
    "mars_3_name='Syrtis Major Hemisphere'\n",
    "mars_3='https://astrogeology.usgs.gov/search/map/Mars/Viking/syrtis_major_enhanced'\n",
    "response = requests.get(mars_3)\n",
    "soup = BeautifulSoup(response.text, 'html.parser')\n",
    "mars_3_img = soup.find(\"img\", class_=\"wide-image\")\n",
    "mars_3_img = mars_3_img['src']\n",
    "mars_3_img_url = \"https://astrogeology.usgs.gov\" + mars_3_img\n",
    "print(f\"The Syrtis Major Hemisphere Image:\\n\\n{mars_3_img_url}\")"
   ]
  },
  {
   "cell_type": "code",
   "execution_count": 22,
   "metadata": {},
   "outputs": [
    {
     "output_type": "stream",
     "name": "stdout",
     "text": "The Valles Marineris Hemisphere Image:\n\nhttps://astrogeology.usgs.gov/cache/images/7cf2da4bf549ed01c17f206327be4db7_valles_marineris_enhanced.tif_full.jpg\n"
    }
   ],
   "source": [
    "# 4.Valles Marineris Hemisphere\n",
    "mars_4_name='Valles Marineris Hemisphere'\n",
    "mars_4='https://astrogeology.usgs.gov/search/map/Mars/Viking/valles_marineris_enhanced'\n",
    "response = requests.get(mars_4)\n",
    "soup = BeautifulSoup(response.text, 'html.parser')\n",
    "mars_4_img = soup.find(\"img\", class_=\"wide-image\")\n",
    "mars_4_img = mars_4_img['src']\n",
    "mars_4_img_url = \"https://astrogeology.usgs.gov\" + mars_4_img\n",
    "print(f\"The Valles Marineris Hemisphere Image:\\n\\n{mars_4_img_url}\")"
   ]
  },
  {
   "cell_type": "code",
   "execution_count": 23,
   "metadata": {},
   "outputs": [
    {
     "output_type": "execute_result",
     "data": {
      "text/plain": "{'latestmarsnews': \"\\n\\nAlabama High School Student Names NASA's Mars Helicopter\\n\\n\",\n 'newspar': \"\\n\\nVaneeza Rupani's essay was chosen as the name for the small spacecraft, which will mark NASA's first attempt at powered flight on another planet.\\n\\n\\n\\n\\n\",\n 'image': 'https://www.jpl.nasa.gov/spaceimages/images/wallpaper/PIA19041-1920x1200.jpg',\n 'weather': 'InSight sol 517 (2020-05-10) low -92.6ºC (-134.7ºF) high 1.2ºC (34.2ºF)\\nwinds from the SW at 4.9 m/s (11.0 mph) gusting to 17.5 m/s (39.2 mph)\\npressure at 7.00 hPapic.twitter.com/wM9OaiiRhy',\n 'marsfacts': '<table border=\"1\" class=\"dataframe\">\\n  <thead>\\n    <tr style=\"text-align: right;\">\\n      <th></th>\\n      <th>Mars Profile</th>\\n      <th>Values</th>\\n    </tr>\\n  </thead>\\n  <tbody>\\n    <tr>\\n      <th>0</th>\\n      <td>Equatorial Diameter:</td>\\n      <td>6,792 km</td>\\n    </tr>\\n    <tr>\\n      <th>1</th>\\n      <td>Polar Diameter:</td>\\n      <td>6,752 km</td>\\n    </tr>\\n    <tr>\\n      <th>2</th>\\n      <td>Mass:</td>\\n      <td>6.39 × 10^23 kg (0.11 Earths)</td>\\n    </tr>\\n    <tr>\\n      <th>3</th>\\n      <td>Moons:</td>\\n      <td>2 (Phobos &amp; Deimos)</td>\\n    </tr>\\n    <tr>\\n      <th>4</th>\\n      <td>Orbit Distance:</td>\\n      <td>227,943,824 km (1.38 AU)</td>\\n    </tr>\\n    <tr>\\n      <th>5</th>\\n      <td>Orbit Period:</td>\\n      <td>687 days (1.9 years)</td>\\n    </tr>\\n    <tr>\\n      <th>6</th>\\n      <td>Surface Temperature:</td>\\n      <td>-87 to -5 °C</td>\\n    </tr>\\n    <tr>\\n      <th>7</th>\\n      <td>First Record:</td>\\n      <td>2nd millennium BC</td>\\n    </tr>\\n    <tr>\\n      <th>8</th>\\n      <td>Recorded By:</td>\\n      <td>Egyptian astronomers</td>\\n    </tr>\\n  </tbody>\\n</table>',\n 'titles1': 'Cerberus Hemisphere',\n 'imge_url1': 'https://astrogeology.usgs.gov/cache/images/cfa62af2557222a02478f1fcd781d445_cerberus_enhanced.tif_full.jpg',\n 'titles2': 'Schiaperelli Hemisphere',\n 'imge_url2': 'https://astrogeology.usgs.gov/cache/images/3cdd1cbf5e0813bba925c9030d13b62e_schiaparelli_enhanced.tif_full.jpg',\n 'titles3': 'Syrtis Major Hemisphere',\n 'imge_url3': 'https://astrogeology.usgs.gov/cache/images/ae209b4e408bb6c3e67b6af38168cf28_syrtis_major_enhanced.tif_full.jpg',\n 'titles4': 'Valles Marineris Hemisphere',\n 'imge_url4': 'https://astrogeology.usgs.gov/cache/images/7cf2da4bf549ed01c17f206327be4db7_valles_marineris_enhanced.tif_full.jpg'}"
     },
     "metadata": {},
     "execution_count": 23
    }
   ],
   "source": [
    "mars_dic= {'latestmarsnews': news,\n",
    "           'newspar':  news_p,\n",
    "           'image': featured_image_url,\n",
    "           'weather': mars_weather,\n",
    "           'marsfacts': html_mars_facts,\n",
    "           'titles1':mars_1_name,\"imge_url1\":mars_1_img_url,\n",
    "           'titles2':mars_2_name,\"imge_url2\":mars_2_img_url,\n",
    "           'titles3':mars_3_name,\"imge_url3\":mars_3_img_url,\n",
    "           'titles4':mars_4_name,\"imge_url4\":mars_4_img_url \n",
    "           }\n",
    "mars_dic"
   ]
  },
  {
   "cell_type": "code",
   "execution_count": null,
   "metadata": {},
   "outputs": [],
   "source": []
  }
 ],
 "metadata": {
  "kernelspec": {
   "display_name": "Python 3",
   "language": "python",
   "name": "python3"
  },
  "language_info": {
   "codemirror_mode": {
    "name": "ipython",
    "version": 3
   },
   "file_extension": ".py",
   "mimetype": "text/x-python",
   "name": "python",
   "nbconvert_exporter": "python",
   "pygments_lexer": "ipython3",
   "version": "3.7.4-final"
  }
 },
 "nbformat": 4,
 "nbformat_minor": 2
}